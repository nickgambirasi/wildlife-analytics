{
 "cells": [
  {
   "cell_type": "markdown",
   "metadata": {},
   "source": [
    "# Welcome\n",
    "___\n",
    "This is the notebook used in part 4 of lab 5, for converting data from the JSON objects given in the simulation into a pandas dataframe that is used for data analysis.\n",
    "\n",
    "The data is all output to a single text file that contains many json objects. We need to read in each JSON object, determine if it contains the data that we are interested in from the simulation, and if it does store that data in a data frame."
   ]
  },
  {
   "cell_type": "code",
   "execution_count": 2,
   "metadata": {},
   "outputs": [],
   "source": [
    "import json\n",
    "import pandas as pd\n",
    "import numpy as np"
   ]
  },
  {
   "cell_type": "markdown",
   "metadata": {},
   "source": [
    "We first open the log file and begin parsing the json objects:"
   ]
  },
  {
   "cell_type": "code",
   "execution_count": 3,
   "metadata": {},
   "outputs": [
    {
     "name": "stdout",
     "output_type": "stream",
     "text": [
      "Completed.\n",
      "Skipped parsing for 1320 blank json entries\n"
     ]
    }
   ],
   "source": [
    "json_dicts = []\n",
    "blank_count = 0\n",
    "with open(r\"African Savanna - v0.41 (Windows)\\SimResults\\log_221129_192514.txt\") as f:\n",
    "    for line in f:\n",
    "        try:\n",
    "            cleaned = line.strip().replace(' ', '')\n",
    "            json_dicts.append(json.loads(cleaned))\n",
    "        except Exception as e:\n",
    "            blank_count = blank_count + 1\n",
    "            \n",
    "print(\"Completed.\")\n",
    "print(f\"Skipped parsing for {blank_count} blank json entries\")"
   ]
  },
  {
   "cell_type": "markdown",
   "metadata": {},
   "source": [
    "We can verify that the json data has been converted and appended to the list by printing the results and asserting that they look correct:"
   ]
  },
  {
   "cell_type": "code",
   "execution_count": 4,
   "metadata": {},
   "outputs": [
    {
     "name": "stdout",
     "output_type": "stream",
     "text": [
      "[[{'deviceId': '6386981d996cc6001debfec6_5', 'timestamp': 68.5, 'sensors': [{'id': 1669765557628, 'type': 31, 'input': {'pulseOxygen': [36, 30, 24.24908, 0.4948791]}}]}], {'status': 'OK', 'result': [{'id': '6386981d996cc6001debfec6_5', 'result': [{'timestamp': 65.43766, '1669765154374': {'id': 1669765154374, 'type': 2, 'name': 'Arduino', 'info': {'current': None, 'voltage': 0.0}, 'pin': 3}}, {'timestamp': 65.43766, '1669765154374': {'id': 1669765154374, 'type': 2, 'name': 'Arduino', 'info': {'current': 0.0, 'voltage': 0.0}, 'pin': 22}}, {'timestamp': 65.43766, '1669765154374': {'id': 1669765154374, 'type': 2, 'name': 'Arduino', 'info': {'current': 0.0, 'voltage': 0.0}, 'pin': 21}}, {'timestamp': 65.43766, '1669765154374': {'id': 1669765154374, 'type': 2, 'name': 'Arduino', 'info': {'current': 0.0, 'voltage': 5.0}, 'pin': 24}}, {'timestamp': 65.43766, '1669765543730': {'id': 1669765543730, 'type': 10, 'name': 'Resistor', 'info': {'current': 0.0, 'voltage': 0.0}}}, {'timestamp': 65.43766, '1669765545999': {'id': 1669765545999, 'type': 4, 'name': 'LED', 'info': {'current': 0.0, 'voltage': 0.0, 'brightness': 0.0, 'state': 'off'}}}, {'timestamp': 65.43766, '1669765557628': {'id': 1669765557628, 'type': 31, 'name': 'MAX30102PulseOximeter', 'info': {'current': None, 'voltage': 5.0}, 'pin': 0}}, {'timestamp': 65.43766, '1669765557628': {'id': 1669765557628, 'type': 31, 'name': 'MAX30102PulseOximeter', 'info': {'current': None, 'voltage': 0.0}, 'pin': 6}}, {'timestamp': 65.438, '1669765154374': {'id': 1669765154374, 'type': 2, 'name': 'Arduino', 'info': {'cmd': 'stdout-message', 'message': '{\"device\":\"POX\",\"data\":\"Nodata.\"}\\n'}}}, {'timestamp': 65.438, '1669765154374': {'id': 1669765154374, 'type': 2, 'name': 'Arduino', 'info': {'current': 0.0, 'voltage': 0.0}, 'pin': 3}}, {'timestamp': 65.438, '1669765154374': {'id': 1669765154374, 'type': 2, 'name': 'Arduino', 'info': {'current': 0.0, 'voltage': 0.0}, 'pin': 22}}, {'timestamp': 65.438, '1669765154374': {'id': 1669765154374, 'type': 2, 'name': 'Arduino', 'info': {'current': 0.0, 'voltage': 0.0}, 'pin': 21}}, {'timestamp': 65.438, '1669765154374': {'id': 1669765154374, 'type': 2, 'name': 'Arduino', 'info': {'current': 0.0, 'voltage': 5.0}, 'pin': 24}}, {'timestamp': 65.438, '1669765543730': {'id': 1669765543730, 'type': 10, 'name': 'Resistor', 'info': {'current': 0.0, 'voltage': 0.0}}}, {'timestamp': 65.438, '1669765545999': {'id': 1669765545999, 'type': 4, 'name': 'LED', 'info': {'current': 0.0, 'voltage': 0.0, 'brightness': 0.0, 'state': 'off'}}}, {'timestamp': 65.438, '1669765557628': {'id': 1669765557628, 'type': 31, 'name': 'MAX30102PulseOximeter', 'info': {'current': None, 'voltage': 5.0}, 'pin': 0}}, {'timestamp': 65.438, '1669765557628': {'id': 1669765557628, 'type': 31, 'name': 'MAX30102PulseOximeter', 'info': {'current': None, 'voltage': 0.0}, 'pin': 6}}, {'timestamp': 66.438, '1669765154374': {'id': 1669765154374, 'type': 2, 'name': 'Arduino', 'info': {'cmd': 'stdout-message', 'message': '{\"device\":\"POX\",\"data\":{\"oxygen\":\"94\",\"pulse\":\"36\"}}\\n'}}}, {'timestamp': 66.438, '1669765154374': {'id': 1669765154374, 'type': 2, 'name': 'Arduino', 'info': {'current': 0.045455, 'voltage': 5.0}, 'pin': 3}}, {'timestamp': 66.438, '1669765154374': {'id': 1669765154374, 'type': 2, 'name': 'Arduino', 'info': {'current': 0.045455, 'voltage': 0.0}, 'pin': 22}}, {'timestamp': 66.438, '1669765154374': {'id': 1669765154374, 'type': 2, 'name': 'Arduino', 'info': {'current': 0.0, 'voltage': 0.0}, 'pin': 21}}, {'timestamp': 66.438, '1669765154374': {'id': 1669765154374, 'type': 2, 'name': 'Arduino', 'info': {'current': 0.0, 'voltage': 5.0}, 'pin': 24}}, {'timestamp': 66.438, '1669765543730': {'id': 1669765543730, 'type': 10, 'name': 'Resistor', 'info': {'current': 0.045455, 'voltage': 4.545}}}, {'timestamp': 66.438, '1669765545999': {'id': 1669765545999, 'type': 4, 'name': 'LED', 'info': {'current': 0.045455, 'voltage': 0.455, 'brightness': 0.045455, 'state': 'on'}}}, {'timestamp': 66.438, '1669765557628': {'id': 1669765557628, 'type': 31, 'name': 'MAX30102PulseOximeter', 'info': {'current': None, 'voltage': 5.0}, 'pin': 0}}, {'timestamp': 66.438, '1669765557628': {'id': 1669765557628, 'type': 31, 'name': 'MAX30102PulseOximeter', 'info': {'current': None, 'voltage': 0.0}, 'pin': 6}}, {'timestamp': 67.438, '1669765154374': {'id': 1669765154374, 'type': 2, 'name': 'Arduino', 'info': {'cmd': 'stdout-message', 'message': '{\"device\":\"POX\",\"data\":{\"oxygen\":\"94\",\"pulse\":\"36\"}}\\n'}}}, {'timestamp': 67.438, '1669765154374': {'id': 1669765154374, 'type': 2, 'name': 'Arduino', 'info': {'current': 0.045455, 'voltage': 5.0}, 'pin': 3}}, {'timestamp': 67.438, '1669765154374': {'id': 1669765154374, 'type': 2, 'name': 'Arduino', 'info': {'current': 0.045455, 'voltage': 0.0}, 'pin': 22}}, {'timestamp': 67.438, '1669765154374': {'id': 1669765154374, 'type': 2, 'name': 'Arduino', 'info': {'current': 0.0, 'voltage': 0.0}, 'pin': 21}}, {'timestamp': 67.438, '1669765154374': {'id': 1669765154374, 'type': 2, 'name': 'Arduino', 'info': {'current': 0.0, 'voltage': 5.0}, 'pin': 24}}, {'timestamp': 67.438, '1669765543730': {'id': 1669765543730, 'type': 10, 'name': 'Resistor', 'info': {'current': 0.045455, 'voltage': 4.545}}}, {'timestamp': 67.438, '1669765545999': {'id': 1669765545999, 'type': 4, 'name': 'LED', 'info': {'current': 0.045455, 'voltage': 0.455, 'brightness': 0.045455, 'state': 'on'}}}, {'timestamp': 67.438, '1669765557628': {'id': 1669765557628, 'type': 31, 'name': 'MAX30102PulseOximeter', 'info': {'current': None, 'voltage': 5.0}, 'pin': 0}}, {'timestamp': 67.438, '1669765557628': {'id': 1669765557628, 'type': 31, 'name': 'MAX30102PulseOximeter', 'info': {'current': None, 'voltage': 0.0}, 'pin': 6}}, {'timestamp': 68.438, '1669765154374': {'id': 1669765154374, 'type': 2, 'name': 'Arduino', 'info': {'cmd': 'stdout-message', 'message': '{\"device\":\"POX\",\"data\":{\"oxygen\":\"94\",\"pulse\":\"36\"}}\\n'}}}, {'timestamp': 68.438, '1669765154374': {'id': 1669765154374, 'type': 2, 'name': 'Arduino', 'info': {'current': 0.045455, 'voltage': 5.0}, 'pin': 3}}, {'timestamp': 68.438, '1669765154374': {'id': 1669765154374, 'type': 2, 'name': 'Arduino', 'info': {'current': 0.045455, 'voltage': 0.0}, 'pin': 22}}, {'timestamp': 68.438, '1669765154374': {'id': 1669765154374, 'type': 2, 'name': 'Arduino', 'info': {'current': 0.0, 'voltage': 0.0}, 'pin': 21}}, {'timestamp': 68.438, '1669765154374': {'id': 1669765154374, 'type': 2, 'name': 'Arduino', 'info': {'current': 0.0, 'voltage': 5.0}, 'pin': 24}}, {'timestamp': 68.438, '1669765543730': {'id': 1669765543730, 'type': 10, 'name': 'Resistor', 'info': {'current': 0.045455, 'voltage': 4.545}}}, {'timestamp': 68.438, '1669765545999': {'id': 1669765545999, 'type': 4, 'name': 'LED', 'info': {'current': 0.045455, 'voltage': 0.455, 'brightness': 0.045455, 'state': 'on'}}}, {'timestamp': 68.438, '1669765557628': {'id': 1669765557628, 'type': 31, 'name': 'MAX30102PulseOximeter', 'info': {'current': None, 'voltage': 5.0}, 'pin': 0}}, {'timestamp': 68.438, '1669765557628': {'id': 1669765557628, 'type': 31, 'name': 'MAX30102PulseOximeter', 'info': {'current': None, 'voltage': 0.0}, 'pin': 6}}]}], 'container_id': '7137f13771e5d859abfcb6a7d0448c78c350fb539a4ef00ff72542d50f87133d'}]\n"
     ]
    }
   ],
   "source": [
    "print(json_dicts[0:2])"
   ]
  },
  {
   "cell_type": "markdown",
   "metadata": {},
   "source": [
    "The results of creating the json dictionary list seems sufficient and we can proceed with conversion of data from json objects into a pandas dataframe.\n",
    "\n",
    "What information do we need from the sim results json objects?\n",
    "\n",
    "        - device id / device type\n",
    "        - animal id    \n",
    "        - Location information (X, Y coordinates)\n",
    "        - Pulseoximeter information (oxygen level, heart rate)\n",
    "        - Temperature information (temp)\n",
    "        - Sound information (sound volume level)"
   ]
  },
  {
   "cell_type": "code",
   "execution_count": 54,
   "metadata": {},
   "outputs": [],
   "source": [
    "sound_data_list = []\n",
    "pox_data_list = []\n",
    "temp_data_list =[]\n",
    "gps_data_list = []\n",
    "\n",
    "# create lists of pertinent datapoints for every type of data collected\n",
    "for json_dict in json_dicts:\n",
    "\n",
    "    if isinstance(json_dict, list):\n",
    "        continue\n",
    "\n",
    "    if json_dict['status'] == \"OK\": # these are the only things that we want\n",
    "\n",
    "        for thing in json_dict['result']:\n",
    "\n",
    "            animal_num = thing['id'].split('_')[-1] # to get the animal number\n",
    "\n",
    "            for instance in thing['result']:\n",
    "                \n",
    "                timestamp = instance['timestamp']\n",
    "                timestamp = round(timestamp, 1)\n",
    "\n",
    "                if 'message' in list(list(instance.values())[1]['info'].keys()):\n",
    "\n",
    "                    device_type = json.loads(list(instance.values())[1]['info']['message'])['device']\n",
    "\n",
    "                    if device_type == 'POX':\n",
    "                        data = json.loads(list(instance.values())[1]['info']['message'])['data']\n",
    "                        if data != 'Nodata.':\n",
    "                            oxygen = float(data['oxygen'])\n",
    "                            pulse = float(data['pulse'])\n",
    "\n",
    "                            pox_data_list.append([timestamp, animal_num, oxygen, pulse])\n",
    "\n",
    "                        \n",
    "\n",
    "                    elif device_type == 'sound':\n",
    "\n",
    "                        sound = float(json.loads(list(instance.values())[1]['info']['message'])['data'])\n",
    "\n",
    "                        sound_data_list.append([timestamp, animal_num, sound])\n",
    "\n",
    "                    elif device_type == 'temperature':\n",
    "\n",
    "                        temperature = float(json.loads(list(instance.values())[1]['info']['message'])['data'])\n",
    "\n",
    "                        temp_data_list.append([timestamp, animal_num, temperature])\n",
    "\n",
    "                    elif device_type == 'GPS':\n",
    "\n",
    "                        gpsX = float(json.loads(list(instance.values())[1]['info']['message'])['data'][0])\n",
    "                        gpsY = float(json.loads(list(instance.values())[1]['info']['message'])['data'][1])\n",
    "\n",
    "                        gps_data_list.append([timestamp, animal_num, gpsX, gpsY])\n",
    "\n",
    "# create dataframes from list data\n",
    "sounds_df = pd.DataFrame(sound_data_list, columns=['timestamp', 'animal-id', 'sound'])\n",
    "pox_df = pd.DataFrame(pox_data_list, columns=['timestamp', 'animal-id', 'oxygen', 'pulse'])\n",
    "temp_df = pd.DataFrame(temp_data_list, columns=['timestamp', 'animal-id', 'temperature'])\n",
    "gps_df = pd.DataFrame(gps_data_list, columns=['timestamp', 'animal-id', 'gpsX', 'gpsY'])\n",
    "\n",
    "# write data to csv files\n",
    "sounds_df.to_csv('sound_data.csv', index=False)\n",
    "pox_df.to_csv('pox_data.csv', index=False)\n",
    "temp_df.to_csv('temp_data.csv', index=False)\n",
    "gps_df.to_csv('gps_data.csv', index=False)\n"
   ]
  },
  {
   "cell_type": "code",
   "execution_count": 56,
   "metadata": {},
   "outputs": [
    {
     "data": {
      "text/html": [
       "<div>\n",
       "<style scoped>\n",
       "    .dataframe tbody tr th:only-of-type {\n",
       "        vertical-align: middle;\n",
       "    }\n",
       "\n",
       "    .dataframe tbody tr th {\n",
       "        vertical-align: top;\n",
       "    }\n",
       "\n",
       "    .dataframe thead th {\n",
       "        text-align: right;\n",
       "    }\n",
       "</style>\n",
       "<table border=\"1\" class=\"dataframe\">\n",
       "  <thead>\n",
       "    <tr style=\"text-align: right;\">\n",
       "      <th></th>\n",
       "      <th>timestamp</th>\n",
       "      <th>animal-id</th>\n",
       "      <th>sound</th>\n",
       "    </tr>\n",
       "  </thead>\n",
       "  <tbody>\n",
       "    <tr>\n",
       "      <th>0</th>\n",
       "      <td>71.5</td>\n",
       "      <td>5</td>\n",
       "      <td>0.0</td>\n",
       "    </tr>\n",
       "    <tr>\n",
       "      <th>1</th>\n",
       "      <td>71.6</td>\n",
       "      <td>5</td>\n",
       "      <td>0.0</td>\n",
       "    </tr>\n",
       "    <tr>\n",
       "      <th>2</th>\n",
       "      <td>71.7</td>\n",
       "      <td>5</td>\n",
       "      <td>0.0</td>\n",
       "    </tr>\n",
       "    <tr>\n",
       "      <th>3</th>\n",
       "      <td>71.8</td>\n",
       "      <td>5</td>\n",
       "      <td>0.0</td>\n",
       "    </tr>\n",
       "    <tr>\n",
       "      <th>4</th>\n",
       "      <td>71.9</td>\n",
       "      <td>5</td>\n",
       "      <td>0.0</td>\n",
       "    </tr>\n",
       "    <tr>\n",
       "      <th>...</th>\n",
       "      <td>...</td>\n",
       "      <td>...</td>\n",
       "      <td>...</td>\n",
       "    </tr>\n",
       "    <tr>\n",
       "      <th>11535</th>\n",
       "      <td>384.3</td>\n",
       "      <td>28</td>\n",
       "      <td>0.0</td>\n",
       "    </tr>\n",
       "    <tr>\n",
       "      <th>11536</th>\n",
       "      <td>384.4</td>\n",
       "      <td>28</td>\n",
       "      <td>0.0</td>\n",
       "    </tr>\n",
       "    <tr>\n",
       "      <th>11537</th>\n",
       "      <td>384.5</td>\n",
       "      <td>28</td>\n",
       "      <td>0.0</td>\n",
       "    </tr>\n",
       "    <tr>\n",
       "      <th>11538</th>\n",
       "      <td>384.6</td>\n",
       "      <td>28</td>\n",
       "      <td>0.0</td>\n",
       "    </tr>\n",
       "    <tr>\n",
       "      <th>11539</th>\n",
       "      <td>384.7</td>\n",
       "      <td>28</td>\n",
       "      <td>0.0</td>\n",
       "    </tr>\n",
       "  </tbody>\n",
       "</table>\n",
       "<p>11540 rows × 3 columns</p>\n",
       "</div>"
      ],
      "text/plain": [
       "       timestamp animal-id  sound\n",
       "0           71.5         5    0.0\n",
       "1           71.6         5    0.0\n",
       "2           71.7         5    0.0\n",
       "3           71.8         5    0.0\n",
       "4           71.9         5    0.0\n",
       "...          ...       ...    ...\n",
       "11535      384.3        28    0.0\n",
       "11536      384.4        28    0.0\n",
       "11537      384.5        28    0.0\n",
       "11538      384.6        28    0.0\n",
       "11539      384.7        28    0.0\n",
       "\n",
       "[11540 rows x 3 columns]"
      ]
     },
     "execution_count": 56,
     "metadata": {},
     "output_type": "execute_result"
    }
   ],
   "source": []
  },
  {
   "cell_type": "code",
   "execution_count": null,
   "metadata": {},
   "outputs": [],
   "source": []
  }
 ],
 "metadata": {
  "kernelspec": {
   "display_name": "Python 3.9.15 ('iot-lab5')",
   "language": "python",
   "name": "python3"
  },
  "language_info": {
   "codemirror_mode": {
    "name": "ipython",
    "version": 3
   },
   "file_extension": ".py",
   "mimetype": "text/x-python",
   "name": "python",
   "nbconvert_exporter": "python",
   "pygments_lexer": "ipython3",
   "version": "3.9.15"
  },
  "orig_nbformat": 4,
  "vscode": {
   "interpreter": {
    "hash": "8e3e18fd2225d35dcfde057773f3874bbe56e7c032fe2f0161d44012fdddb145"
   }
  }
 },
 "nbformat": 4,
 "nbformat_minor": 2
}
